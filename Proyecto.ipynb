{
 "cells": [
  {
   "cell_type": "markdown",
   "metadata": {},
   "source": [
    "### Librerias y Dataset"
   ]
  },
  {
   "cell_type": "code",
   "execution_count": 1,
   "metadata": {},
   "outputs": [],
   "source": [
    "import pandas as pd #Libreria para la manipulacion de datos\n",
    "import numpy as np #Libreria para la manipulacion de datos numericos\n",
    "import seaborn as sns #Libreria para la visualizacion de datos\n",
    "import matplotlib.pyplot as plt #Libreria para la visualizacion de datos"
   ]
  },
  {
   "cell_type": "code",
   "execution_count": 2,
   "metadata": {},
   "outputs": [],
   "source": [
    "df = pd.read_csv(\"dataset.csv\") #Cargar el archivo CSV en un DataFrame de pandas\n",
    "pd.set_option(\"display.max_columns\",None) #Mostrar todas las columnas del DataFrame"
   ]
  },
  {
   "cell_type": "code",
   "execution_count": 3,
   "metadata": {},
   "outputs": [
    {
     "data": {
      "text/plain": [
       "(500, 10)"
      ]
     },
     "execution_count": 3,
     "metadata": {},
     "output_type": "execute_result"
    }
   ],
   "source": [
    "df.shape #Mostrar la forma del DataFrame (filas, columnas)"
   ]
  },
  {
   "cell_type": "code",
   "execution_count": 4,
   "metadata": {},
   "outputs": [
    {
     "data": {
      "text/html": [
       "<div>\n",
       "<style scoped>\n",
       "    .dataframe tbody tr th:only-of-type {\n",
       "        vertical-align: middle;\n",
       "    }\n",
       "\n",
       "    .dataframe tbody tr th {\n",
       "        vertical-align: top;\n",
       "    }\n",
       "\n",
       "    .dataframe thead th {\n",
       "        text-align: right;\n",
       "    }\n",
       "</style>\n",
       "<table border=\"1\" class=\"dataframe\">\n",
       "  <thead>\n",
       "    <tr style=\"text-align: right;\">\n",
       "      <th></th>\n",
       "      <th>fecha_venta</th>\n",
       "      <th>tipo_empanada</th>\n",
       "      <th>sucursal</th>\n",
       "      <th>medio_pago</th>\n",
       "      <th>metodo_compra</th>\n",
       "      <th>cliente</th>\n",
       "      <th>unidades</th>\n",
       "      <th>precio_total</th>\n",
       "      <th>calificacion</th>\n",
       "      <th>tiempo_entrega_min</th>\n",
       "    </tr>\n",
       "  </thead>\n",
       "  <tbody>\n",
       "    <tr>\n",
       "      <th>0</th>\n",
       "      <td>2023-04-08 00:21</td>\n",
       "      <td>Carne Picante</td>\n",
       "      <td>Sucursal Oeste</td>\n",
       "      <td>Tarjeta Crédito</td>\n",
       "      <td>Web</td>\n",
       "      <td>Nuevo</td>\n",
       "      <td>5</td>\n",
       "      <td>11.80</td>\n",
       "      <td>NaN</td>\n",
       "      <td>NaN</td>\n",
       "    </tr>\n",
       "    <tr>\n",
       "      <th>1</th>\n",
       "      <td>2023-03-04 11:09</td>\n",
       "      <td>Caprese</td>\n",
       "      <td>Sucursal Sur</td>\n",
       "      <td>Tarjeta Crédito</td>\n",
       "      <td>Delivery</td>\n",
       "      <td>Habitual</td>\n",
       "      <td>11</td>\n",
       "      <td>19.36</td>\n",
       "      <td>NaN</td>\n",
       "      <td>36.0</td>\n",
       "    </tr>\n",
       "    <tr>\n",
       "      <th>2</th>\n",
       "      <td>2023-05-31 03:45</td>\n",
       "      <td>Cebolla y Queso</td>\n",
       "      <td>Sucursal Norte</td>\n",
       "      <td>Tarjeta Débito</td>\n",
       "      <td>Presencial</td>\n",
       "      <td>Nuevo</td>\n",
       "      <td>2</td>\n",
       "      <td>2.26</td>\n",
       "      <td>5.0</td>\n",
       "      <td>NaN</td>\n",
       "    </tr>\n",
       "    <tr>\n",
       "      <th>3</th>\n",
       "      <td>2023-01-04 04:41</td>\n",
       "      <td>Verdura</td>\n",
       "      <td>Sucursal Oeste</td>\n",
       "      <td>Efectivo</td>\n",
       "      <td>Delivery</td>\n",
       "      <td>Nuevo</td>\n",
       "      <td>7</td>\n",
       "      <td>12.32</td>\n",
       "      <td>2.0</td>\n",
       "      <td>42.0</td>\n",
       "    </tr>\n",
       "    <tr>\n",
       "      <th>4</th>\n",
       "      <td>2023-07-25 18:45</td>\n",
       "      <td>Caprese</td>\n",
       "      <td>Sucursal Oeste</td>\n",
       "      <td>MercadoPago</td>\n",
       "      <td>Delivery</td>\n",
       "      <td>Nuevo</td>\n",
       "      <td>6</td>\n",
       "      <td>12.96</td>\n",
       "      <td>2.0</td>\n",
       "      <td>37.0</td>\n",
       "    </tr>\n",
       "  </tbody>\n",
       "</table>\n",
       "</div>"
      ],
      "text/plain": [
       "        fecha_venta    tipo_empanada        sucursal       medio_pago  \\\n",
       "0  2023-04-08 00:21    Carne Picante  Sucursal Oeste  Tarjeta Crédito   \n",
       "1  2023-03-04 11:09          Caprese    Sucursal Sur  Tarjeta Crédito   \n",
       "2  2023-05-31 03:45  Cebolla y Queso  Sucursal Norte   Tarjeta Débito   \n",
       "3  2023-01-04 04:41          Verdura  Sucursal Oeste         Efectivo   \n",
       "4  2023-07-25 18:45          Caprese  Sucursal Oeste      MercadoPago   \n",
       "\n",
       "  metodo_compra   cliente  unidades  precio_total  calificacion  \\\n",
       "0           Web     Nuevo         5         11.80           NaN   \n",
       "1      Delivery  Habitual        11         19.36           NaN   \n",
       "2    Presencial     Nuevo         2          2.26           5.0   \n",
       "3      Delivery     Nuevo         7         12.32           2.0   \n",
       "4      Delivery     Nuevo         6         12.96           2.0   \n",
       "\n",
       "   tiempo_entrega_min  \n",
       "0                 NaN  \n",
       "1                36.0  \n",
       "2                 NaN  \n",
       "3                42.0  \n",
       "4                37.0  "
      ]
     },
     "execution_count": 4,
     "metadata": {},
     "output_type": "execute_result"
    }
   ],
   "source": [
    "df.head() #Mostrar las primeras filas del DataFrame"
   ]
  },
  {
   "cell_type": "code",
   "execution_count": 5,
   "metadata": {},
   "outputs": [
    {
     "name": "stdout",
     "output_type": "stream",
     "text": [
      "<class 'pandas.core.frame.DataFrame'>\n",
      "RangeIndex: 500 entries, 0 to 499\n",
      "Data columns (total 10 columns):\n",
      " #   Column              Non-Null Count  Dtype  \n",
      "---  ------              --------------  -----  \n",
      " 0   fecha_venta         500 non-null    object \n",
      " 1   tipo_empanada       500 non-null    object \n",
      " 2   sucursal            500 non-null    object \n",
      " 3   medio_pago          500 non-null    object \n",
      " 4   metodo_compra       500 non-null    object \n",
      " 5   cliente             500 non-null    object \n",
      " 6   unidades            500 non-null    int64  \n",
      " 7   precio_total        500 non-null    float64\n",
      " 8   calificacion        385 non-null    float64\n",
      " 9   tiempo_entrega_min  168 non-null    float64\n",
      "dtypes: float64(3), int64(1), object(6)\n",
      "memory usage: 39.2+ KB\n"
     ]
    }
   ],
   "source": [
    "df.info() #Mostrar la informacion del DataFrame (tipos de datos, valores nulos, etc.)"
   ]
  },
  {
   "cell_type": "code",
   "execution_count": 6,
   "metadata": {},
   "outputs": [
    {
     "data": {
      "text/plain": [
       "Index(['fecha_venta', 'tipo_empanada', 'sucursal', 'medio_pago',\n",
       "       'metodo_compra', 'cliente', 'unidades', 'precio_total', 'calificacion',\n",
       "       'tiempo_entrega_min'],\n",
       "      dtype='object')"
      ]
     },
     "execution_count": 6,
     "metadata": {},
     "output_type": "execute_result"
    }
   ],
   "source": [
    "df.columns #Mostrar los nombres de las columnas del DataFrame"
   ]
  },
  {
   "cell_type": "markdown",
   "metadata": {},
   "source": [
    "### Tratamiento de variables "
   ]
  },
  {
   "cell_type": "code",
   "execution_count": 7,
   "metadata": {},
   "outputs": [],
   "source": [
    "\n",
    "df['fecha'] = pd.to_datetime(df['fecha_venta']) #Convertir la columna 'fecha_venta' a tipo datetime"
   ]
  },
  {
   "cell_type": "code",
   "execution_count": 8,
   "metadata": {},
   "outputs": [
    {
     "data": {
      "text/plain": [
       "fecha_venta             0\n",
       "tipo_empanada           0\n",
       "sucursal                0\n",
       "medio_pago              0\n",
       "metodo_compra           0\n",
       "cliente                 0\n",
       "unidades                0\n",
       "precio_total            0\n",
       "calificacion          115\n",
       "tiempo_entrega_min    332\n",
       "fecha                   0\n",
       "dtype: int64"
      ]
     },
     "execution_count": 8,
     "metadata": {},
     "output_type": "execute_result"
    }
   ],
   "source": [
    "df.isnull().sum() #Contar los valores nulos en cada columna del DataFrame"
   ]
  },
  {
   "cell_type": "code",
   "execution_count": 9,
   "metadata": {},
   "outputs": [
    {
     "data": {
      "text/plain": [
       "calificacion\n",
       "4.0    116\n",
       "5.0    103\n",
       "1.0     70\n",
       "2.0     58\n",
       "3.0     38\n",
       "Name: count, dtype: int64"
      ]
     },
     "execution_count": 9,
     "metadata": {},
     "output_type": "execute_result"
    }
   ],
   "source": [
    "df[\"calificacion\"].value_counts() #Contar los valores únicos en la columna 'calificacion'"
   ]
  },
  {
   "cell_type": "code",
   "execution_count": 10,
   "metadata": {},
   "outputs": [
    {
     "data": {
      "text/html": [
       "<div>\n",
       "<style scoped>\n",
       "    .dataframe tbody tr th:only-of-type {\n",
       "        vertical-align: middle;\n",
       "    }\n",
       "\n",
       "    .dataframe tbody tr th {\n",
       "        vertical-align: top;\n",
       "    }\n",
       "\n",
       "    .dataframe thead th {\n",
       "        text-align: right;\n",
       "    }\n",
       "</style>\n",
       "<table border=\"1\" class=\"dataframe\">\n",
       "  <thead>\n",
       "    <tr style=\"text-align: right;\">\n",
       "      <th></th>\n",
       "      <th>fecha_venta</th>\n",
       "      <th>tipo_empanada</th>\n",
       "      <th>sucursal</th>\n",
       "      <th>medio_pago</th>\n",
       "      <th>metodo_compra</th>\n",
       "      <th>cliente</th>\n",
       "      <th>unidades</th>\n",
       "      <th>precio_total</th>\n",
       "      <th>calificacion</th>\n",
       "      <th>tiempo_entrega_min</th>\n",
       "      <th>fecha</th>\n",
       "    </tr>\n",
       "  </thead>\n",
       "  <tbody>\n",
       "    <tr>\n",
       "      <th>1</th>\n",
       "      <td>2023-03-04 11:09</td>\n",
       "      <td>Caprese</td>\n",
       "      <td>Sucursal Sur</td>\n",
       "      <td>Tarjeta Crédito</td>\n",
       "      <td>Delivery</td>\n",
       "      <td>Habitual</td>\n",
       "      <td>11</td>\n",
       "      <td>19.36</td>\n",
       "      <td>NaN</td>\n",
       "      <td>36.0</td>\n",
       "      <td>2023-03-04 11:09:00</td>\n",
       "    </tr>\n",
       "    <tr>\n",
       "      <th>3</th>\n",
       "      <td>2023-01-04 04:41</td>\n",
       "      <td>Verdura</td>\n",
       "      <td>Sucursal Oeste</td>\n",
       "      <td>Efectivo</td>\n",
       "      <td>Delivery</td>\n",
       "      <td>Nuevo</td>\n",
       "      <td>7</td>\n",
       "      <td>12.32</td>\n",
       "      <td>2.0</td>\n",
       "      <td>42.0</td>\n",
       "      <td>2023-01-04 04:41:00</td>\n",
       "    </tr>\n",
       "    <tr>\n",
       "      <th>4</th>\n",
       "      <td>2023-07-25 18:45</td>\n",
       "      <td>Caprese</td>\n",
       "      <td>Sucursal Oeste</td>\n",
       "      <td>MercadoPago</td>\n",
       "      <td>Delivery</td>\n",
       "      <td>Nuevo</td>\n",
       "      <td>6</td>\n",
       "      <td>12.96</td>\n",
       "      <td>2.0</td>\n",
       "      <td>37.0</td>\n",
       "      <td>2023-07-25 18:45:00</td>\n",
       "    </tr>\n",
       "    <tr>\n",
       "      <th>6</th>\n",
       "      <td>2023-10-31 17:37</td>\n",
       "      <td>Carne</td>\n",
       "      <td>Sucursal Palermo</td>\n",
       "      <td>Efectivo</td>\n",
       "      <td>Delivery</td>\n",
       "      <td>Habitual</td>\n",
       "      <td>12</td>\n",
       "      <td>12.12</td>\n",
       "      <td>4.0</td>\n",
       "      <td>15.0</td>\n",
       "      <td>2023-10-31 17:37:00</td>\n",
       "    </tr>\n",
       "    <tr>\n",
       "      <th>11</th>\n",
       "      <td>2023-04-18 14:05</td>\n",
       "      <td>Humita</td>\n",
       "      <td>Sucursal Norte</td>\n",
       "      <td>MercadoPago</td>\n",
       "      <td>Delivery</td>\n",
       "      <td>Habitual</td>\n",
       "      <td>1</td>\n",
       "      <td>1.11</td>\n",
       "      <td>1.0</td>\n",
       "      <td>40.0</td>\n",
       "      <td>2023-04-18 14:05:00</td>\n",
       "    </tr>\n",
       "    <tr>\n",
       "      <th>...</th>\n",
       "      <td>...</td>\n",
       "      <td>...</td>\n",
       "      <td>...</td>\n",
       "      <td>...</td>\n",
       "      <td>...</td>\n",
       "      <td>...</td>\n",
       "      <td>...</td>\n",
       "      <td>...</td>\n",
       "      <td>...</td>\n",
       "      <td>...</td>\n",
       "      <td>...</td>\n",
       "    </tr>\n",
       "    <tr>\n",
       "      <th>478</th>\n",
       "      <td>2023-04-13 22:04</td>\n",
       "      <td>Caprese</td>\n",
       "      <td>Sucursal Centro</td>\n",
       "      <td>Tarjeta Crédito</td>\n",
       "      <td>Delivery</td>\n",
       "      <td>Habitual</td>\n",
       "      <td>2</td>\n",
       "      <td>2.02</td>\n",
       "      <td>NaN</td>\n",
       "      <td>46.0</td>\n",
       "      <td>2023-04-13 22:04:00</td>\n",
       "    </tr>\n",
       "    <tr>\n",
       "      <th>482</th>\n",
       "      <td>2023-11-08 09:50</td>\n",
       "      <td>Humita</td>\n",
       "      <td>Sucursal Centro</td>\n",
       "      <td>Tarjeta Crédito</td>\n",
       "      <td>Delivery</td>\n",
       "      <td>Habitual</td>\n",
       "      <td>3</td>\n",
       "      <td>7.38</td>\n",
       "      <td>5.0</td>\n",
       "      <td>12.0</td>\n",
       "      <td>2023-11-08 09:50:00</td>\n",
       "    </tr>\n",
       "    <tr>\n",
       "      <th>485</th>\n",
       "      <td>2023-01-23 23:07</td>\n",
       "      <td>Verdura</td>\n",
       "      <td>Sucursal Sur</td>\n",
       "      <td>MercadoPago</td>\n",
       "      <td>Delivery</td>\n",
       "      <td>Habitual</td>\n",
       "      <td>9</td>\n",
       "      <td>21.42</td>\n",
       "      <td>4.0</td>\n",
       "      <td>30.0</td>\n",
       "      <td>2023-01-23 23:07:00</td>\n",
       "    </tr>\n",
       "    <tr>\n",
       "      <th>489</th>\n",
       "      <td>2023-11-02 16:09</td>\n",
       "      <td>Pollo</td>\n",
       "      <td>Sucursal Palermo</td>\n",
       "      <td>Tarjeta Débito</td>\n",
       "      <td>Delivery</td>\n",
       "      <td>Habitual</td>\n",
       "      <td>4</td>\n",
       "      <td>4.84</td>\n",
       "      <td>4.0</td>\n",
       "      <td>24.0</td>\n",
       "      <td>2023-11-02 16:09:00</td>\n",
       "    </tr>\n",
       "    <tr>\n",
       "      <th>491</th>\n",
       "      <td>2023-10-08 02:19</td>\n",
       "      <td>Cebolla y Queso</td>\n",
       "      <td>Sucursal Palermo</td>\n",
       "      <td>Tarjeta Crédito</td>\n",
       "      <td>Delivery</td>\n",
       "      <td>Habitual</td>\n",
       "      <td>6</td>\n",
       "      <td>13.62</td>\n",
       "      <td>3.0</td>\n",
       "      <td>32.0</td>\n",
       "      <td>2023-10-08 02:19:00</td>\n",
       "    </tr>\n",
       "  </tbody>\n",
       "</table>\n",
       "<p>168 rows × 11 columns</p>\n",
       "</div>"
      ],
      "text/plain": [
       "          fecha_venta    tipo_empanada          sucursal       medio_pago  \\\n",
       "1    2023-03-04 11:09          Caprese      Sucursal Sur  Tarjeta Crédito   \n",
       "3    2023-01-04 04:41          Verdura    Sucursal Oeste         Efectivo   \n",
       "4    2023-07-25 18:45          Caprese    Sucursal Oeste      MercadoPago   \n",
       "6    2023-10-31 17:37            Carne  Sucursal Palermo         Efectivo   \n",
       "11   2023-04-18 14:05           Humita    Sucursal Norte      MercadoPago   \n",
       "..                ...              ...               ...              ...   \n",
       "478  2023-04-13 22:04          Caprese   Sucursal Centro  Tarjeta Crédito   \n",
       "482  2023-11-08 09:50           Humita   Sucursal Centro  Tarjeta Crédito   \n",
       "485  2023-01-23 23:07          Verdura      Sucursal Sur      MercadoPago   \n",
       "489  2023-11-02 16:09            Pollo  Sucursal Palermo   Tarjeta Débito   \n",
       "491  2023-10-08 02:19  Cebolla y Queso  Sucursal Palermo  Tarjeta Crédito   \n",
       "\n",
       "    metodo_compra   cliente  unidades  precio_total  calificacion  \\\n",
       "1        Delivery  Habitual        11         19.36           NaN   \n",
       "3        Delivery     Nuevo         7         12.32           2.0   \n",
       "4        Delivery     Nuevo         6         12.96           2.0   \n",
       "6        Delivery  Habitual        12         12.12           4.0   \n",
       "11       Delivery  Habitual         1          1.11           1.0   \n",
       "..            ...       ...       ...           ...           ...   \n",
       "478      Delivery  Habitual         2          2.02           NaN   \n",
       "482      Delivery  Habitual         3          7.38           5.0   \n",
       "485      Delivery  Habitual         9         21.42           4.0   \n",
       "489      Delivery  Habitual         4          4.84           4.0   \n",
       "491      Delivery  Habitual         6         13.62           3.0   \n",
       "\n",
       "     tiempo_entrega_min               fecha  \n",
       "1                  36.0 2023-03-04 11:09:00  \n",
       "3                  42.0 2023-01-04 04:41:00  \n",
       "4                  37.0 2023-07-25 18:45:00  \n",
       "6                  15.0 2023-10-31 17:37:00  \n",
       "11                 40.0 2023-04-18 14:05:00  \n",
       "..                  ...                 ...  \n",
       "478                46.0 2023-04-13 22:04:00  \n",
       "482                12.0 2023-11-08 09:50:00  \n",
       "485                30.0 2023-01-23 23:07:00  \n",
       "489                24.0 2023-11-02 16:09:00  \n",
       "491                32.0 2023-10-08 02:19:00  \n",
       "\n",
       "[168 rows x 11 columns]"
      ]
     },
     "execution_count": 10,
     "metadata": {},
     "output_type": "execute_result"
    }
   ],
   "source": [
    "df.loc[df[\"metodo_compra\"]==\"Delivery\"] #Filtrar el DataFrame para mostrar solo las filas donde 'metodo_compra' es \"Delivery\""
   ]
  },
  {
   "cell_type": "code",
   "execution_count": 11,
   "metadata": {},
   "outputs": [
    {
     "data": {
      "text/html": [
       "<div>\n",
       "<style scoped>\n",
       "    .dataframe tbody tr th:only-of-type {\n",
       "        vertical-align: middle;\n",
       "    }\n",
       "\n",
       "    .dataframe tbody tr th {\n",
       "        vertical-align: top;\n",
       "    }\n",
       "\n",
       "    .dataframe thead th {\n",
       "        text-align: right;\n",
       "    }\n",
       "</style>\n",
       "<table border=\"1\" class=\"dataframe\">\n",
       "  <thead>\n",
       "    <tr style=\"text-align: right;\">\n",
       "      <th></th>\n",
       "      <th>fecha_venta</th>\n",
       "      <th>tipo_empanada</th>\n",
       "      <th>sucursal</th>\n",
       "      <th>medio_pago</th>\n",
       "      <th>metodo_compra</th>\n",
       "      <th>cliente</th>\n",
       "      <th>unidades</th>\n",
       "      <th>precio_total</th>\n",
       "      <th>calificacion</th>\n",
       "      <th>tiempo_entrega_min</th>\n",
       "      <th>fecha</th>\n",
       "    </tr>\n",
       "  </thead>\n",
       "  <tbody>\n",
       "    <tr>\n",
       "      <th>0</th>\n",
       "      <td>2023-04-08 00:21</td>\n",
       "      <td>Carne Picante</td>\n",
       "      <td>Sucursal Oeste</td>\n",
       "      <td>Tarjeta Crédito</td>\n",
       "      <td>Web</td>\n",
       "      <td>Nuevo</td>\n",
       "      <td>5</td>\n",
       "      <td>11.80</td>\n",
       "      <td>NaN</td>\n",
       "      <td>NaN</td>\n",
       "      <td>2023-04-08 00:21:00</td>\n",
       "    </tr>\n",
       "    <tr>\n",
       "      <th>2</th>\n",
       "      <td>2023-05-31 03:45</td>\n",
       "      <td>Cebolla y Queso</td>\n",
       "      <td>Sucursal Norte</td>\n",
       "      <td>Tarjeta Débito</td>\n",
       "      <td>Presencial</td>\n",
       "      <td>Nuevo</td>\n",
       "      <td>2</td>\n",
       "      <td>2.26</td>\n",
       "      <td>5.0</td>\n",
       "      <td>NaN</td>\n",
       "      <td>2023-05-31 03:45:00</td>\n",
       "    </tr>\n",
       "    <tr>\n",
       "      <th>3</th>\n",
       "      <td>2023-01-04 04:41</td>\n",
       "      <td>Verdura</td>\n",
       "      <td>Sucursal Oeste</td>\n",
       "      <td>Efectivo</td>\n",
       "      <td>Delivery</td>\n",
       "      <td>Nuevo</td>\n",
       "      <td>7</td>\n",
       "      <td>12.32</td>\n",
       "      <td>2.0</td>\n",
       "      <td>42.0</td>\n",
       "      <td>2023-01-04 04:41:00</td>\n",
       "    </tr>\n",
       "    <tr>\n",
       "      <th>4</th>\n",
       "      <td>2023-07-25 18:45</td>\n",
       "      <td>Caprese</td>\n",
       "      <td>Sucursal Oeste</td>\n",
       "      <td>MercadoPago</td>\n",
       "      <td>Delivery</td>\n",
       "      <td>Nuevo</td>\n",
       "      <td>6</td>\n",
       "      <td>12.96</td>\n",
       "      <td>2.0</td>\n",
       "      <td>37.0</td>\n",
       "      <td>2023-07-25 18:45:00</td>\n",
       "    </tr>\n",
       "    <tr>\n",
       "      <th>5</th>\n",
       "      <td>2023-10-08 02:16</td>\n",
       "      <td>Caprese</td>\n",
       "      <td>Sucursal Sur</td>\n",
       "      <td>MercadoPago</td>\n",
       "      <td>Web</td>\n",
       "      <td>Nuevo</td>\n",
       "      <td>2</td>\n",
       "      <td>4.02</td>\n",
       "      <td>1.0</td>\n",
       "      <td>NaN</td>\n",
       "      <td>2023-10-08 02:16:00</td>\n",
       "    </tr>\n",
       "    <tr>\n",
       "      <th>...</th>\n",
       "      <td>...</td>\n",
       "      <td>...</td>\n",
       "      <td>...</td>\n",
       "      <td>...</td>\n",
       "      <td>...</td>\n",
       "      <td>...</td>\n",
       "      <td>...</td>\n",
       "      <td>...</td>\n",
       "      <td>...</td>\n",
       "      <td>...</td>\n",
       "      <td>...</td>\n",
       "    </tr>\n",
       "    <tr>\n",
       "      <th>479</th>\n",
       "      <td>2023-07-23 06:35</td>\n",
       "      <td>Jamon y Queso</td>\n",
       "      <td>Sucursal Sur</td>\n",
       "      <td>MercadoPago</td>\n",
       "      <td>Web</td>\n",
       "      <td>Nuevo</td>\n",
       "      <td>12</td>\n",
       "      <td>21.48</td>\n",
       "      <td>5.0</td>\n",
       "      <td>NaN</td>\n",
       "      <td>2023-07-23 06:35:00</td>\n",
       "    </tr>\n",
       "    <tr>\n",
       "      <th>483</th>\n",
       "      <td>2023-05-09 11:27</td>\n",
       "      <td>Humita</td>\n",
       "      <td>Sucursal Oeste</td>\n",
       "      <td>Tarjeta Débito</td>\n",
       "      <td>Web</td>\n",
       "      <td>Nuevo</td>\n",
       "      <td>6</td>\n",
       "      <td>7.74</td>\n",
       "      <td>5.0</td>\n",
       "      <td>NaN</td>\n",
       "      <td>2023-05-09 11:27:00</td>\n",
       "    </tr>\n",
       "    <tr>\n",
       "      <th>484</th>\n",
       "      <td>2023-09-07 01:02</td>\n",
       "      <td>Dulce de Leche</td>\n",
       "      <td>Sucursal Oeste</td>\n",
       "      <td>Efectivo</td>\n",
       "      <td>Presencial</td>\n",
       "      <td>Nuevo</td>\n",
       "      <td>10</td>\n",
       "      <td>13.00</td>\n",
       "      <td>NaN</td>\n",
       "      <td>NaN</td>\n",
       "      <td>2023-09-07 01:02:00</td>\n",
       "    </tr>\n",
       "    <tr>\n",
       "      <th>496</th>\n",
       "      <td>2023-06-21 21:45</td>\n",
       "      <td>Carne Picante</td>\n",
       "      <td>Sucursal Oeste</td>\n",
       "      <td>Tarjeta Débito</td>\n",
       "      <td>Web</td>\n",
       "      <td>Nuevo</td>\n",
       "      <td>8</td>\n",
       "      <td>14.40</td>\n",
       "      <td>2.0</td>\n",
       "      <td>NaN</td>\n",
       "      <td>2023-06-21 21:45:00</td>\n",
       "    </tr>\n",
       "    <tr>\n",
       "      <th>497</th>\n",
       "      <td>2023-08-18 07:26</td>\n",
       "      <td>Jamon y Queso</td>\n",
       "      <td>Sucursal Centro</td>\n",
       "      <td>Efectivo</td>\n",
       "      <td>Presencial</td>\n",
       "      <td>Nuevo</td>\n",
       "      <td>10</td>\n",
       "      <td>20.00</td>\n",
       "      <td>4.0</td>\n",
       "      <td>NaN</td>\n",
       "      <td>2023-08-18 07:26:00</td>\n",
       "    </tr>\n",
       "  </tbody>\n",
       "</table>\n",
       "<p>253 rows × 11 columns</p>\n",
       "</div>"
      ],
      "text/plain": [
       "          fecha_venta    tipo_empanada         sucursal       medio_pago  \\\n",
       "0    2023-04-08 00:21    Carne Picante   Sucursal Oeste  Tarjeta Crédito   \n",
       "2    2023-05-31 03:45  Cebolla y Queso   Sucursal Norte   Tarjeta Débito   \n",
       "3    2023-01-04 04:41          Verdura   Sucursal Oeste         Efectivo   \n",
       "4    2023-07-25 18:45          Caprese   Sucursal Oeste      MercadoPago   \n",
       "5    2023-10-08 02:16          Caprese     Sucursal Sur      MercadoPago   \n",
       "..                ...              ...              ...              ...   \n",
       "479  2023-07-23 06:35    Jamon y Queso     Sucursal Sur      MercadoPago   \n",
       "483  2023-05-09 11:27           Humita   Sucursal Oeste   Tarjeta Débito   \n",
       "484  2023-09-07 01:02   Dulce de Leche   Sucursal Oeste         Efectivo   \n",
       "496  2023-06-21 21:45    Carne Picante   Sucursal Oeste   Tarjeta Débito   \n",
       "497  2023-08-18 07:26    Jamon y Queso  Sucursal Centro         Efectivo   \n",
       "\n",
       "    metodo_compra cliente  unidades  precio_total  calificacion  \\\n",
       "0             Web   Nuevo         5         11.80           NaN   \n",
       "2      Presencial   Nuevo         2          2.26           5.0   \n",
       "3        Delivery   Nuevo         7         12.32           2.0   \n",
       "4        Delivery   Nuevo         6         12.96           2.0   \n",
       "5             Web   Nuevo         2          4.02           1.0   \n",
       "..            ...     ...       ...           ...           ...   \n",
       "479           Web   Nuevo        12         21.48           5.0   \n",
       "483           Web   Nuevo         6          7.74           5.0   \n",
       "484    Presencial   Nuevo        10         13.00           NaN   \n",
       "496           Web   Nuevo         8         14.40           2.0   \n",
       "497    Presencial   Nuevo        10         20.00           4.0   \n",
       "\n",
       "     tiempo_entrega_min               fecha  \n",
       "0                   NaN 2023-04-08 00:21:00  \n",
       "2                   NaN 2023-05-31 03:45:00  \n",
       "3                  42.0 2023-01-04 04:41:00  \n",
       "4                  37.0 2023-07-25 18:45:00  \n",
       "5                   NaN 2023-10-08 02:16:00  \n",
       "..                  ...                 ...  \n",
       "479                 NaN 2023-07-23 06:35:00  \n",
       "483                 NaN 2023-05-09 11:27:00  \n",
       "484                 NaN 2023-09-07 01:02:00  \n",
       "496                 NaN 2023-06-21 21:45:00  \n",
       "497                 NaN 2023-08-18 07:26:00  \n",
       "\n",
       "[253 rows x 11 columns]"
      ]
     },
     "execution_count": 11,
     "metadata": {},
     "output_type": "execute_result"
    }
   ],
   "source": [
    "df.loc[df[\"cliente\"]==\"Nuevo\"] #Filtrar el DataFrame para mostrar solo las filas donde 'cliente' es \"Nuevo\""
   ]
  },
  {
   "cell_type": "code",
   "execution_count": 12,
   "metadata": {},
   "outputs": [
    {
     "data": {
      "text/plain": [
       "sucursal\n",
       "Sucursal Centro     3.000000\n",
       "Sucursal Norte      3.255814\n",
       "Sucursal Oeste      3.545455\n",
       "Sucursal Palermo    3.397260\n",
       "Sucursal Sur        3.420455\n",
       "Name: calificacion, dtype: float64"
      ]
     },
     "execution_count": 12,
     "metadata": {},
     "output_type": "execute_result"
    }
   ],
   "source": [
    "df.groupby(\"sucursal\")[\"calificacion\"].mean() #Agrupar el DataFrame por 'sucursal' y calcular la media de 'calificacion' para cada grupo"
   ]
  },
  {
   "cell_type": "code",
   "execution_count": 13,
   "metadata": {},
   "outputs": [],
   "source": [
    "df['sucursal'] = df['sucursal'].replace('Sucursal Palermo', 'Sucursal Norte') #Reemplazar 'Sucursal Palermo' por 'Sucursal Norte' en la columna 'sucursal'"
   ]
  },
  {
   "cell_type": "code",
   "execution_count": 14,
   "metadata": {},
   "outputs": [
    {
     "data": {
      "text/plain": [
       "metodo_compra\n",
       "Delivery      2.875000\n",
       "Presencial    4.523364\n",
       "Web           2.843284\n",
       "Name: calificacion, dtype: float64"
      ]
     },
     "execution_count": 14,
     "metadata": {},
     "output_type": "execute_result"
    }
   ],
   "source": [
    "df.groupby(\"metodo_compra\")[\"calificacion\"].mean() #Agrupar el DataFrame por 'metodo_compra' y calcular la media de 'calificacion' para cada grupo"
   ]
  },
  {
   "cell_type": "code",
   "execution_count": 15,
   "metadata": {},
   "outputs": [],
   "source": [
    "df[\"calificacion\"] = df[\"calificacion\"].fillna(\n",
    "    df.groupby(\"metodo_compra\")[\"calificacion\"].transform(\"mean\")\n",
    ") #Rellenar los valores nulos en 'calificacion' con la media de 'calificacion' agrupada por 'metodo_compra'"
   ]
  },
  {
   "cell_type": "code",
   "execution_count": 16,
   "metadata": {},
   "outputs": [
    {
     "data": {
      "text/plain": [
       "fecha_venta             0\n",
       "tipo_empanada           0\n",
       "sucursal                0\n",
       "medio_pago              0\n",
       "metodo_compra           0\n",
       "cliente                 0\n",
       "unidades                0\n",
       "precio_total            0\n",
       "calificacion            0\n",
       "tiempo_entrega_min    332\n",
       "fecha                   0\n",
       "dtype: int64"
      ]
     },
     "execution_count": 16,
     "metadata": {},
     "output_type": "execute_result"
    }
   ],
   "source": [
    "df.isnull().sum() #Contar los valores nulos en cada columna del DataFrame"
   ]
  },
  {
   "cell_type": "code",
   "execution_count": 17,
   "metadata": {},
   "outputs": [],
   "source": [
    "df[\"tiempo_entrega_min\"] = df[\"tiempo_entrega_min\"].fillna(\n",
    "df.groupby(\"sucursal\")[\"tiempo_entrega_min\"].transform(\"mean\")) #Rellenar los valores nulos en 'tiempo_entrega_min' con la media de 'tiempo_entrega_min' agrupada por 'sucursal'"
   ]
  },
  {
   "cell_type": "code",
   "execution_count": 18,
   "metadata": {},
   "outputs": [
    {
     "data": {
      "text/plain": [
       "fecha_venta           0\n",
       "tipo_empanada         0\n",
       "sucursal              0\n",
       "medio_pago            0\n",
       "metodo_compra         0\n",
       "cliente               0\n",
       "unidades              0\n",
       "precio_total          0\n",
       "calificacion          0\n",
       "tiempo_entrega_min    0\n",
       "fecha                 0\n",
       "dtype: int64"
      ]
     },
     "execution_count": 18,
     "metadata": {},
     "output_type": "execute_result"
    }
   ],
   "source": [
    "df.isnull().sum() #Contar los valores nulos en cada columna del DataFrame"
   ]
  },
  {
   "cell_type": "code",
   "execution_count": 19,
   "metadata": {},
   "outputs": [],
   "source": [
    "df = df[df['tipo_empanada'] != 'Dulce de Leche'] "
   ]
  },
  {
   "cell_type": "code",
   "execution_count": 20,
   "metadata": {},
   "outputs": [
    {
     "data": {
      "text/plain": [
       "medio_pago\n",
       "Tarjeta Débito     124\n",
       "Tarjeta Crédito    119\n",
       "MercadoPago        108\n",
       "Efectivo           101\n",
       "Name: count, dtype: int64"
      ]
     },
     "execution_count": 20,
     "metadata": {},
     "output_type": "execute_result"
    }
   ],
   "source": [
    "df[\"medio_pago\"].value_counts() #Contar los valores únicos en la columna 'medio_pago'"
   ]
  },
  {
   "cell_type": "code",
   "execution_count": 21,
   "metadata": {},
   "outputs": [],
   "source": [
    "df['medio_pago'] = df['medio_pago'].replace('MercadoPago', 'Transferencia') #Reemplazar 'MercadoPago' por 'Transferencia' en la columna 'medio_pago'\n"
   ]
  },
  {
   "cell_type": "code",
   "execution_count": 22,
   "metadata": {},
   "outputs": [],
   "source": [
    "df.to_csv('empanadas_don_pedro_limpio.csv', index=False) #Guardar el DataFrame limpio en un nuevo archivo CSV"
   ]
  },
  {
   "cell_type": "code",
   "execution_count": 23,
   "metadata": {},
   "outputs": [],
   "source": [
    "df=pd.read_csv(\"empanadas_don_pedro_limpio.csv\") #Cargar el archivo CSV en un DataFrame de pandas"
   ]
  },
  {
   "cell_type": "markdown",
   "metadata": {},
   "source": [
    "### Analisis"
   ]
  },
  {
   "cell_type": "code",
   "execution_count": 24,
   "metadata": {},
   "outputs": [
    {
     "data": {
      "text/html": [
       "<div>\n",
       "<style scoped>\n",
       "    .dataframe tbody tr th:only-of-type {\n",
       "        vertical-align: middle;\n",
       "    }\n",
       "\n",
       "    .dataframe tbody tr th {\n",
       "        vertical-align: top;\n",
       "    }\n",
       "\n",
       "    .dataframe thead th {\n",
       "        text-align: right;\n",
       "    }\n",
       "</style>\n",
       "<table border=\"1\" class=\"dataframe\">\n",
       "  <thead>\n",
       "    <tr style=\"text-align: right;\">\n",
       "      <th></th>\n",
       "      <th>unidades</th>\n",
       "      <th>precio_total</th>\n",
       "      <th>calificacion</th>\n",
       "      <th>tiempo_entrega_min</th>\n",
       "    </tr>\n",
       "  </thead>\n",
       "  <tbody>\n",
       "    <tr>\n",
       "      <th>count</th>\n",
       "      <td>452.000000</td>\n",
       "      <td>452.000000</td>\n",
       "      <td>452.000000</td>\n",
       "      <td>452.000000</td>\n",
       "    </tr>\n",
       "    <tr>\n",
       "      <th>mean</th>\n",
       "      <td>6.626106</td>\n",
       "      <td>11.602190</td>\n",
       "      <td>3.458125</td>\n",
       "      <td>34.919037</td>\n",
       "    </tr>\n",
       "    <tr>\n",
       "      <th>std</th>\n",
       "      <td>3.520548</td>\n",
       "      <td>7.025518</td>\n",
       "      <td>1.359470</td>\n",
       "      <td>8.860162</td>\n",
       "    </tr>\n",
       "    <tr>\n",
       "      <th>min</th>\n",
       "      <td>1.000000</td>\n",
       "      <td>1.030000</td>\n",
       "      <td>1.000000</td>\n",
       "      <td>10.000000</td>\n",
       "    </tr>\n",
       "    <tr>\n",
       "      <th>25%</th>\n",
       "      <td>4.000000</td>\n",
       "      <td>5.990000</td>\n",
       "      <td>2.632463</td>\n",
       "      <td>29.636364</td>\n",
       "    </tr>\n",
       "    <tr>\n",
       "      <th>50%</th>\n",
       "      <td>6.000000</td>\n",
       "      <td>10.885000</td>\n",
       "      <td>4.000000</td>\n",
       "      <td>36.162162</td>\n",
       "    </tr>\n",
       "    <tr>\n",
       "      <th>75%</th>\n",
       "      <td>10.000000</td>\n",
       "      <td>16.000000</td>\n",
       "      <td>4.523364</td>\n",
       "      <td>37.727273</td>\n",
       "    </tr>\n",
       "    <tr>\n",
       "      <th>max</th>\n",
       "      <td>12.000000</td>\n",
       "      <td>30.000000</td>\n",
       "      <td>5.000000</td>\n",
       "      <td>60.000000</td>\n",
       "    </tr>\n",
       "  </tbody>\n",
       "</table>\n",
       "</div>"
      ],
      "text/plain": [
       "         unidades  precio_total  calificacion  tiempo_entrega_min\n",
       "count  452.000000    452.000000    452.000000          452.000000\n",
       "mean     6.626106     11.602190      3.458125           34.919037\n",
       "std      3.520548      7.025518      1.359470            8.860162\n",
       "min      1.000000      1.030000      1.000000           10.000000\n",
       "25%      4.000000      5.990000      2.632463           29.636364\n",
       "50%      6.000000     10.885000      4.000000           36.162162\n",
       "75%     10.000000     16.000000      4.523364           37.727273\n",
       "max     12.000000     30.000000      5.000000           60.000000"
      ]
     },
     "execution_count": 24,
     "metadata": {},
     "output_type": "execute_result"
    }
   ],
   "source": [
    "df.columns #Mostrar los nombres de las columnas del DataFrame\n",
    "df.describe() #Mostrar estadisticas descriptivas del DataFrame (media, mediana, etc.)"
   ]
  },
  {
   "cell_type": "markdown",
   "metadata": {},
   "source": [
    "### Serie temporal de ventas"
   ]
  },
  {
   "cell_type": "code",
   "execution_count": 25,
   "metadata": {},
   "outputs": [
    {
     "data": {
      "image/png": "[encoded data removed]",
      "text/plain": [
       "<Figure size 1400x700 with 1 Axes>"
      ]
     },
     "metadata": {},
     "output_type": "display_data"
    }
   ],
   "source": [
    "# Asegurar de convertir la columna a datetime\n",
    "df['fecha_venta'] = pd.to_datetime(df['fecha_venta'])\n",
    "\n",
    "# Agrupar por mes\n",
    "ventas_mensuales = df['fecha_venta'].dt.to_period('M').value_counts().sort_index()\n",
    "ventas_mensuales.index = ventas_mensuales.index.to_timestamp()\n",
    "\n",
    "# Crear figura\n",
    "plt.figure(figsize=(14, 7))\n",
    "\n",
    "# Datos\n",
    "x = ventas_mensuales.index\n",
    "y = ventas_mensuales.values\n",
    "\n",
    "# Línea principal\n",
    "plt.plot(x, y, marker='D', linestyle='-', linewidth=2, color='green', markersize=8,\n",
    "         markerfacecolor='white', markeredgewidth=2, label='Ventas')\n",
    "\n",
    "# Gradiente (relleno debajo de la línea)\n",
    "plt.fill_between(x, y, color='green', alpha=0.2)\n",
    "\n",
    "# Etiquetas de cada punto\n",
    "for i, value in enumerate(y):\n",
    "    plt.text(x[i], value + 1, str(value), ha='center', va='bottom', fontsize=9, color='black')\n",
    "\n",
    "# Estética\n",
    "plt.title('Evolución Bimestral de Ventas', fontsize=18, fontweight='bold', color='#333333')\n",
    "plt.xlabel('Mes', fontsize=14)\n",
    "plt.ylabel('Cantidad de Ventas', fontsize=14)\n",
    "plt.xticks(rotation=0, fontsize=10)\n",
    "plt.yticks(fontsize=10)\n",
    "plt.grid(True, linestyle='--', alpha=0.4)\n",
    "\n",
    "# Fondo suave\n",
    "plt.gca().set_facecolor('#FAFAFA')\n",
    "plt.gcf().patch.set_facecolor('#F0F0F0')\n",
    "\n",
    "# Quitar bordes innecesarios\n",
    "for spine in ['top', 'right']:\n",
    "    plt.gca().spines[spine].set_visible(False)\n",
    "\n",
    "# Mostrar\n",
    "plt.tight_layout()\n",
    "plt.show()\n"
   ]
  },
  {
   "cell_type": "markdown",
   "metadata": {},
   "source": [
    "### Cuanto recaudo cada sucursal?"
   ]
  },
  {
   "cell_type": "code",
   "execution_count": 26,
   "metadata": {},
   "outputs": [
    {
     "data": {
      "image/png": "[encoded data removed]",
      "text/plain": [
       "<Figure size 1200x600 with 1 Axes>"
      ]
     },
     "metadata": {},
     "output_type": "display_data"
    }
   ],
   "source": [
    "# Agrupación por sucursal\n",
    "sucursal_totales = df.groupby(\"sucursal\")[\"precio_total\"].sum().sort_values()\n",
    "\n",
    "# Crear figura\n",
    "plt.figure(figsize=(12, 6))\n",
    "bars = plt.bar(sucursal_totales.index, sucursal_totales.values, color=\"coral\", edgecolor='black', linewidth=1)\n",
    "\n",
    "# Título y ejes\n",
    "plt.title(\"Recaudacion Total por Sucursal\", fontsize=18, fontweight='bold', color='#333333')\n",
    "plt.xlabel(\"Sucursal\", fontsize=14)\n",
    "plt.ylabel(\"Recaudaciones Totales ($)\", fontsize=14)\n",
    "plt.xticks(rotation=0, ha='right', fontsize=11)\n",
    "plt.yticks(fontsize=11)\n",
    "\n",
    "# Etiquetas arriba de las barras\n",
    "for bar in bars:\n",
    "    yval = bar.get_height()\n",
    "    plt.text(bar.get_x() + bar.get_width()/2, yval + yval*0.01, f\"${yval:,.0f}\", \n",
    "             ha='center', va='bottom', fontsize=10, color='black')\n",
    "\n",
    "# Fondo y estilo\n",
    "plt.gca().set_facecolor('#FAFAFA')\n",
    "plt.gcf().patch.set_facecolor('#F0F0F0')\n",
    "plt.grid(axis='y', linestyle='--', alpha=0.5)\n",
    "\n",
    "# Quitar bordes innecesarios\n",
    "for spine in ['top', 'right']:\n",
    "    plt.gca().spines[spine].set_visible(False)\n",
    "\n",
    "# Ajuste final\n",
    "plt.tight_layout()\n",
    "plt.show()"
   ]
  },
  {
   "cell_type": "markdown",
   "metadata": {},
   "source": [
    "### Que variedad de empanada se vende mas?"
   ]
  },
  {
   "cell_type": "code",
   "execution_count": 27,
   "metadata": {},
   "outputs": [
    {
     "data": {
      "image/png": "[encoded data removed]",
      "text/plain": [
       "<Figure size 1200x600 with 1 Axes>"
      ]
     },
     "metadata": {},
     "output_type": "display_data"
    }
   ],
   "source": [
    "\n",
    "tipo_counts = df[\"tipo_empanada\"].value_counts()\n",
    "\n",
    "# Estilo de color de Seaborn\n",
    "colors = sns.color_palette(\"Set2\", len(tipo_counts))\n",
    "\n",
    "# Crear gráfico\n",
    "plt.figure(figsize=(12, 6))\n",
    "bars = plt.bar(tipo_counts.index, tipo_counts.values, color=\"coral\", edgecolor='black')\n",
    "\n",
    "# Título y ejes\n",
    "plt.title(\"Cantidad Vendida por Tipo de Empanada\", fontsize=18, fontweight='bold', color='#333333')\n",
    "plt.xlabel(\"Tipo de Empanada\", fontsize=14)\n",
    "plt.ylabel(\"Cantidad Vendida\", fontsize=14)\n",
    "plt.xticks(rotation=45, ha='right', fontsize=11)\n",
    "plt.yticks(fontsize=11)\n",
    "\n",
    "# Etiquetas sobre las barras\n",
    "for bar in bars:\n",
    "    yval = bar.get_height()\n",
    "    plt.text(bar.get_x() + bar.get_width()/2, yval + 1, f\"{yval}\", \n",
    "             ha='center', va='bottom', fontsize=10, color='black')\n",
    "\n",
    "# Estética del fondo\n",
    "plt.gca().set_facecolor('#FAFAFA')\n",
    "plt.gcf().patch.set_facecolor('#F0F0F0')\n",
    "plt.grid(axis='y', linestyle='--', alpha=0.4)\n",
    "\n",
    "# Quitar bordes innecesarios\n",
    "for spine in ['top', 'right']:\n",
    "    plt.gca().spines[spine].set_visible(False)\n",
    "\n",
    "# Ajuste final\n",
    "plt.tight_layout()\n",
    "plt.show()\n"
   ]
  },
  {
   "cell_type": "markdown",
   "metadata": {},
   "source": [
    "### Metodo de compra mas elegido"
   ]
  },
  {
   "cell_type": "code",
   "execution_count": 28,
   "metadata": {},
   "outputs": [
    {
     "data": {
      "text/plain": [
       "metodo_compra\n",
       "Presencial    159\n",
       "Delivery      154\n",
       "Web           139\n",
       "Name: count, dtype: int64"
      ]
     },
     "execution_count": 28,
     "metadata": {},
     "output_type": "execute_result"
    }
   ],
   "source": [
    "df[\"metodo_compra\"].value_counts() #Contar los valores únicos en la columna 'metodo_compra'"
   ]
  },
  {
   "cell_type": "markdown",
   "metadata": {},
   "source": [
    "### Existe una relacion entre el tiempo de entrega y la calificacion final?"
   ]
  },
  {
   "cell_type": "code",
   "execution_count": 29,
   "metadata": {},
   "outputs": [
    {
     "data": {
      "text/plain": [
       "Text(0.5, 1.0, 'Relacion(?)')"
      ]
     },
     "execution_count": 29,
     "metadata": {},
     "output_type": "execute_result"
    },
    {
     "data": {
      "image/png": "[encoded data removed]",
      "text/plain": [
       "<Figure size 640x480 with 1 Axes>"
      ]
     },
     "metadata": {},
     "output_type": "display_data"
    }
   ],
   "source": [
    "sns.scatterplot(data=df,x=\"tiempo_entrega_min\",y=\"calificacion\",c=\"coral\")\n",
    "plt.xlabel(\"Calificacion\")\n",
    "plt.ylabel(\"Tiempo de entrega\")\n",
    "plt.title(\"Relacion(?)\")"
   ]
  },
  {
   "cell_type": "markdown",
   "metadata": {},
   "source": [
    "### Calificacion promedio de cada sucursal"
   ]
  },
  {
   "cell_type": "code",
   "execution_count": 30,
   "metadata": {},
   "outputs": [
    {
     "data": {
      "text/plain": [
       "sucursal\n",
       "Sucursal Centro    3.181368\n",
       "Sucursal Norte     3.443290\n",
       "Sucursal Oeste     3.712417\n",
       "Sucursal Sur       3.494627\n",
       "Name: calificacion, dtype: float64"
      ]
     },
     "execution_count": 30,
     "metadata": {},
     "output_type": "execute_result"
    }
   ],
   "source": [
    "df.groupby(\"sucursal\")[\"calificacion\"].mean() #Agrupar el DataFrame por 'sucursal' y calcular la media de 'calificacion' para cada grupo"
   ]
  },
  {
   "cell_type": "markdown",
   "metadata": {},
   "source": [
    "### Calificacion maxima de cada sucursal"
   ]
  },
  {
   "cell_type": "code",
   "execution_count": 31,
   "metadata": {},
   "outputs": [
    {
     "data": {
      "text/plain": [
       "sucursal\n",
       "Sucursal Centro    5.0\n",
       "Sucursal Norte     5.0\n",
       "Sucursal Oeste     5.0\n",
       "Sucursal Sur       5.0\n",
       "Name: calificacion, dtype: float64"
      ]
     },
     "execution_count": 31,
     "metadata": {},
     "output_type": "execute_result"
    }
   ],
   "source": [
    "df.groupby(\"sucursal\")[\"calificacion\"].max() #Agrupar el DataFrame por 'sucursal' y calcular la media de 'calificacion' para cada grupo"
   ]
  },
  {
   "cell_type": "markdown",
   "metadata": {},
   "source": [
    "### Calificacion maxima de cada sucursal"
   ]
  },
  {
   "cell_type": "code",
   "execution_count": 32,
   "metadata": {},
   "outputs": [
    {
     "data": {
      "text/plain": [
       "sucursal\n",
       "Sucursal Centro    1.0\n",
       "Sucursal Norte     1.0\n",
       "Sucursal Oeste     1.0\n",
       "Sucursal Sur       1.0\n",
       "Name: calificacion, dtype: float64"
      ]
     },
     "execution_count": 32,
     "metadata": {},
     "output_type": "execute_result"
    }
   ],
   "source": [
    "df.groupby(\"sucursal\")[\"calificacion\"].min() #Agrupar el DataFrame por 'sucursal' y calcular la media de 'calificacion' para cada grupo"
   ]
  },
  {
   "cell_type": "markdown",
   "metadata": {},
   "source": [
    "### Demora promedio en la entrega por sucursal"
   ]
  },
  {
   "cell_type": "code",
   "execution_count": 33,
   "metadata": {},
   "outputs": [
    {
     "data": {
      "text/plain": [
       "sucursal\n",
       "Sucursal Centro    29.511501\n",
       "Sucursal Norte     36.081375\n",
       "Sucursal Oeste     34.140805\n",
       "Sucursal Sur       38.007421\n",
       "Name: tiempo_entrega_min, dtype: float64"
      ]
     },
     "execution_count": 33,
     "metadata": {},
     "output_type": "execute_result"
    }
   ],
   "source": [
    "df.groupby(\"sucursal\")[\"tiempo_entrega_min\"].mean() #Agrupar el DataFrame por 'sucursal' y calcular la media de 'tiempo_entrega_min' para cada grupo"
   ]
  },
  {
   "cell_type": "markdown",
   "metadata": {},
   "source": [
    "## Preprocesamiento e Implementacion de modelo"
   ]
  },
  {
   "cell_type": "markdown",
   "metadata": {},
   "source": [
    "#### Objetivo = Prediccion de unidades totales vendidas\n",
    "#### Modelo = Random Forest Regressor\n"
   ]
  },
  {
   "cell_type": "code",
   "execution_count": 34,
   "metadata": {},
   "outputs": [],
   "source": [
    "from sklearn.preprocessing import OneHotEncoder #Libreria para la codificacion de variables categoricas"
   ]
  },
  {
   "cell_type": "code",
   "execution_count": 35,
   "metadata": {},
   "outputs": [],
   "source": [
    "catecols = [\"tipo_empanada\",\"sucursal\",\"medio_pago\",\"cliente\",\"metodo_compra\"] #Lista de columnas categoricas"
   ]
  },
  {
   "cell_type": "code",
   "execution_count": 36,
   "metadata": {},
   "outputs": [],
   "source": [
    "encoder = OneHotEncoder(sparse_output=False) #Crear un objeto OneHotEncoder para codificar variables categoricas\n",
    "encoded = encoder.fit_transform(df[catecols]) #Codificar las columnas categoricas"
   ]
  },
  {
   "cell_type": "code",
   "execution_count": 37,
   "metadata": {},
   "outputs": [],
   "source": [
    "columnas_nuevas = encoder.get_feature_names_out(catecols) #Obtener los nombres de las nuevas columnas codificadas\n",
    "df_encoded = pd.DataFrame(encoded, columns=columnas_nuevas) #Crear un DataFrame con las nuevas columnas codificadas"
   ]
  },
  {
   "cell_type": "code",
   "execution_count": 38,
   "metadata": {},
   "outputs": [
    {
     "data": {
      "text/html": [
       "<div>\n",
       "<style scoped>\n",
       "    .dataframe tbody tr th:only-of-type {\n",
       "        vertical-align: middle;\n",
       "    }\n",
       "\n",
       "    .dataframe tbody tr th {\n",
       "        vertical-align: top;\n",
       "    }\n",
       "\n",
       "    .dataframe thead th {\n",
       "        text-align: right;\n",
       "    }\n",
       "</style>\n",
       "<table border=\"1\" class=\"dataframe\">\n",
       "  <thead>\n",
       "    <tr style=\"text-align: right;\">\n",
       "      <th></th>\n",
       "      <th>tipo_empanada_Caprese</th>\n",
       "      <th>tipo_empanada_Carne</th>\n",
       "      <th>tipo_empanada_Carne Picante</th>\n",
       "      <th>tipo_empanada_Cebolla y Queso</th>\n",
       "      <th>tipo_empanada_Humita</th>\n",
       "      <th>tipo_empanada_Jamon y Queso</th>\n",
       "      <th>tipo_empanada_Pollo</th>\n",
       "      <th>tipo_empanada_Verdura</th>\n",
       "      <th>sucursal_Sucursal Centro</th>\n",
       "      <th>sucursal_Sucursal Norte</th>\n",
       "      <th>sucursal_Sucursal Oeste</th>\n",
       "      <th>sucursal_Sucursal Sur</th>\n",
       "      <th>medio_pago_Efectivo</th>\n",
       "      <th>medio_pago_Tarjeta Crédito</th>\n",
       "      <th>medio_pago_Tarjeta Débito</th>\n",
       "      <th>medio_pago_Transferencia</th>\n",
       "      <th>cliente_Habitual</th>\n",
       "      <th>cliente_Nuevo</th>\n",
       "      <th>metodo_compra_Delivery</th>\n",
       "      <th>metodo_compra_Presencial</th>\n",
       "      <th>metodo_compra_Web</th>\n",
       "    </tr>\n",
       "  </thead>\n",
       "  <tbody>\n",
       "    <tr>\n",
       "      <th>0</th>\n",
       "      <td>0.0</td>\n",
       "      <td>0.0</td>\n",
       "      <td>1.0</td>\n",
       "      <td>0.0</td>\n",
       "      <td>0.0</td>\n",
       "      <td>0.0</td>\n",
       "      <td>0.0</td>\n",
       "      <td>0.0</td>\n",
       "      <td>0.0</td>\n",
       "      <td>0.0</td>\n",
       "      <td>1.0</td>\n",
       "      <td>0.0</td>\n",
       "      <td>0.0</td>\n",
       "      <td>1.0</td>\n",
       "      <td>0.0</td>\n",
       "      <td>0.0</td>\n",
       "      <td>0.0</td>\n",
       "      <td>1.0</td>\n",
       "      <td>0.0</td>\n",
       "      <td>0.0</td>\n",
       "      <td>1.0</td>\n",
       "    </tr>\n",
       "    <tr>\n",
       "      <th>1</th>\n",
       "      <td>1.0</td>\n",
       "      <td>0.0</td>\n",
       "      <td>0.0</td>\n",
       "      <td>0.0</td>\n",
       "      <td>0.0</td>\n",
       "      <td>0.0</td>\n",
       "      <td>0.0</td>\n",
       "      <td>0.0</td>\n",
       "      <td>0.0</td>\n",
       "      <td>0.0</td>\n",
       "      <td>0.0</td>\n",
       "      <td>1.0</td>\n",
       "      <td>0.0</td>\n",
       "      <td>1.0</td>\n",
       "      <td>0.0</td>\n",
       "      <td>0.0</td>\n",
       "      <td>1.0</td>\n",
       "      <td>0.0</td>\n",
       "      <td>1.0</td>\n",
       "      <td>0.0</td>\n",
       "      <td>0.0</td>\n",
       "    </tr>\n",
       "    <tr>\n",
       "      <th>2</th>\n",
       "      <td>0.0</td>\n",
       "      <td>0.0</td>\n",
       "      <td>0.0</td>\n",
       "      <td>1.0</td>\n",
       "      <td>0.0</td>\n",
       "      <td>0.0</td>\n",
       "      <td>0.0</td>\n",
       "      <td>0.0</td>\n",
       "      <td>0.0</td>\n",
       "      <td>1.0</td>\n",
       "      <td>0.0</td>\n",
       "      <td>0.0</td>\n",
       "      <td>0.0</td>\n",
       "      <td>0.0</td>\n",
       "      <td>1.0</td>\n",
       "      <td>0.0</td>\n",
       "      <td>0.0</td>\n",
       "      <td>1.0</td>\n",
       "      <td>0.0</td>\n",
       "      <td>1.0</td>\n",
       "      <td>0.0</td>\n",
       "    </tr>\n",
       "    <tr>\n",
       "      <th>3</th>\n",
       "      <td>0.0</td>\n",
       "      <td>0.0</td>\n",
       "      <td>0.0</td>\n",
       "      <td>0.0</td>\n",
       "      <td>0.0</td>\n",
       "      <td>0.0</td>\n",
       "      <td>0.0</td>\n",
       "      <td>1.0</td>\n",
       "      <td>0.0</td>\n",
       "      <td>0.0</td>\n",
       "      <td>1.0</td>\n",
       "      <td>0.0</td>\n",
       "      <td>1.0</td>\n",
       "      <td>0.0</td>\n",
       "      <td>0.0</td>\n",
       "      <td>0.0</td>\n",
       "      <td>0.0</td>\n",
       "      <td>1.0</td>\n",
       "      <td>1.0</td>\n",
       "      <td>0.0</td>\n",
       "      <td>0.0</td>\n",
       "    </tr>\n",
       "    <tr>\n",
       "      <th>4</th>\n",
       "      <td>1.0</td>\n",
       "      <td>0.0</td>\n",
       "      <td>0.0</td>\n",
       "      <td>0.0</td>\n",
       "      <td>0.0</td>\n",
       "      <td>0.0</td>\n",
       "      <td>0.0</td>\n",
       "      <td>0.0</td>\n",
       "      <td>0.0</td>\n",
       "      <td>0.0</td>\n",
       "      <td>1.0</td>\n",
       "      <td>0.0</td>\n",
       "      <td>0.0</td>\n",
       "      <td>0.0</td>\n",
       "      <td>0.0</td>\n",
       "      <td>1.0</td>\n",
       "      <td>0.0</td>\n",
       "      <td>1.0</td>\n",
       "      <td>1.0</td>\n",
       "      <td>0.0</td>\n",
       "      <td>0.0</td>\n",
       "    </tr>\n",
       "  </tbody>\n",
       "</table>\n",
       "</div>"
      ],
      "text/plain": [
       "   tipo_empanada_Caprese  tipo_empanada_Carne  tipo_empanada_Carne Picante  \\\n",
       "0                    0.0                  0.0                          1.0   \n",
       "1                    1.0                  0.0                          0.0   \n",
       "2                    0.0                  0.0                          0.0   \n",
       "3                    0.0                  0.0                          0.0   \n",
       "4                    1.0                  0.0                          0.0   \n",
       "\n",
       "   tipo_empanada_Cebolla y Queso  tipo_empanada_Humita  \\\n",
       "0                            0.0                   0.0   \n",
       "1                            0.0                   0.0   \n",
       "2                            1.0                   0.0   \n",
       "3                            0.0                   0.0   \n",
       "4                            0.0                   0.0   \n",
       "\n",
       "   tipo_empanada_Jamon y Queso  tipo_empanada_Pollo  tipo_empanada_Verdura  \\\n",
       "0                          0.0                  0.0                    0.0   \n",
       "1                          0.0                  0.0                    0.0   \n",
       "2                          0.0                  0.0                    0.0   \n",
       "3                          0.0                  0.0                    1.0   \n",
       "4                          0.0                  0.0                    0.0   \n",
       "\n",
       "   sucursal_Sucursal Centro  sucursal_Sucursal Norte  sucursal_Sucursal Oeste  \\\n",
       "0                       0.0                      0.0                      1.0   \n",
       "1                       0.0                      0.0                      0.0   \n",
       "2                       0.0                      1.0                      0.0   \n",
       "3                       0.0                      0.0                      1.0   \n",
       "4                       0.0                      0.0                      1.0   \n",
       "\n",
       "   sucursal_Sucursal Sur  medio_pago_Efectivo  medio_pago_Tarjeta Crédito  \\\n",
       "0                    0.0                  0.0                         1.0   \n",
       "1                    1.0                  0.0                         1.0   \n",
       "2                    0.0                  0.0                         0.0   \n",
       "3                    0.0                  1.0                         0.0   \n",
       "4                    0.0                  0.0                         0.0   \n",
       "\n",
       "   medio_pago_Tarjeta Débito  medio_pago_Transferencia  cliente_Habitual  \\\n",
       "0                        0.0                       0.0               0.0   \n",
       "1                        0.0                       0.0               1.0   \n",
       "2                        1.0                       0.0               0.0   \n",
       "3                        0.0                       0.0               0.0   \n",
       "4                        0.0                       1.0               0.0   \n",
       "\n",
       "   cliente_Nuevo  metodo_compra_Delivery  metodo_compra_Presencial  \\\n",
       "0            1.0                     0.0                       0.0   \n",
       "1            0.0                     1.0                       0.0   \n",
       "2            1.0                     0.0                       1.0   \n",
       "3            1.0                     1.0                       0.0   \n",
       "4            1.0                     1.0                       0.0   \n",
       "\n",
       "   metodo_compra_Web  \n",
       "0                1.0  \n",
       "1                0.0  \n",
       "2                0.0  \n",
       "3                0.0  \n",
       "4                0.0  "
      ]
     },
     "execution_count": 38,
     "metadata": {},
     "output_type": "execute_result"
    }
   ],
   "source": [
    "df_encoded.head()"
   ]
  },
  {
   "cell_type": "code",
   "execution_count": 39,
   "metadata": {},
   "outputs": [],
   "source": [
    "df = pd.concat([df.drop(catecols, axis=1), df_encoded], axis=1) #Concatenar el DataFrame original sin las columnas categoricas con el DataFrame codificado"
   ]
  },
  {
   "cell_type": "code",
   "execution_count": 40,
   "metadata": {},
   "outputs": [
    {
     "data": {
      "text/html": [
       "<div>\n",
       "<style scoped>\n",
       "    .dataframe tbody tr th:only-of-type {\n",
       "        vertical-align: middle;\n",
       "    }\n",
       "\n",
       "    .dataframe tbody tr th {\n",
       "        vertical-align: top;\n",
       "    }\n",
       "\n",
       "    .dataframe thead th {\n",
       "        text-align: right;\n",
       "    }\n",
       "</style>\n",
       "<table border=\"1\" class=\"dataframe\">\n",
       "  <thead>\n",
       "    <tr style=\"text-align: right;\">\n",
       "      <th></th>\n",
       "      <th>fecha_venta</th>\n",
       "      <th>unidades</th>\n",
       "      <th>precio_total</th>\n",
       "      <th>calificacion</th>\n",
       "      <th>tiempo_entrega_min</th>\n",
       "      <th>fecha</th>\n",
       "      <th>tipo_empanada_Caprese</th>\n",
       "      <th>tipo_empanada_Carne</th>\n",
       "      <th>tipo_empanada_Carne Picante</th>\n",
       "      <th>tipo_empanada_Cebolla y Queso</th>\n",
       "      <th>tipo_empanada_Humita</th>\n",
       "      <th>tipo_empanada_Jamon y Queso</th>\n",
       "      <th>tipo_empanada_Pollo</th>\n",
       "      <th>tipo_empanada_Verdura</th>\n",
       "      <th>sucursal_Sucursal Centro</th>\n",
       "      <th>sucursal_Sucursal Norte</th>\n",
       "      <th>sucursal_Sucursal Oeste</th>\n",
       "      <th>sucursal_Sucursal Sur</th>\n",
       "      <th>medio_pago_Efectivo</th>\n",
       "      <th>medio_pago_Tarjeta Crédito</th>\n",
       "      <th>medio_pago_Tarjeta Débito</th>\n",
       "      <th>medio_pago_Transferencia</th>\n",
       "      <th>cliente_Habitual</th>\n",
       "      <th>cliente_Nuevo</th>\n",
       "      <th>metodo_compra_Delivery</th>\n",
       "      <th>metodo_compra_Presencial</th>\n",
       "      <th>metodo_compra_Web</th>\n",
       "    </tr>\n",
       "  </thead>\n",
       "  <tbody>\n",
       "    <tr>\n",
       "      <th>0</th>\n",
       "      <td>2023-04-08 00:21:00</td>\n",
       "      <td>5</td>\n",
       "      <td>11.80</td>\n",
       "      <td>2.843284</td>\n",
       "      <td>34.321429</td>\n",
       "      <td>2023-04-08 00:21:00</td>\n",
       "      <td>0.0</td>\n",
       "      <td>0.0</td>\n",
       "      <td>1.0</td>\n",
       "      <td>0.0</td>\n",
       "      <td>0.0</td>\n",
       "      <td>0.0</td>\n",
       "      <td>0.0</td>\n",
       "      <td>0.0</td>\n",
       "      <td>0.0</td>\n",
       "      <td>0.0</td>\n",
       "      <td>1.0</td>\n",
       "      <td>0.0</td>\n",
       "      <td>0.0</td>\n",
       "      <td>1.0</td>\n",
       "      <td>0.0</td>\n",
       "      <td>0.0</td>\n",
       "      <td>0.0</td>\n",
       "      <td>1.0</td>\n",
       "      <td>0.0</td>\n",
       "      <td>0.0</td>\n",
       "      <td>1.0</td>\n",
       "    </tr>\n",
       "    <tr>\n",
       "      <th>1</th>\n",
       "      <td>2023-03-04 11:09:00</td>\n",
       "      <td>11</td>\n",
       "      <td>19.36</td>\n",
       "      <td>2.875000</td>\n",
       "      <td>36.000000</td>\n",
       "      <td>2023-03-04 11:09:00</td>\n",
       "      <td>1.0</td>\n",
       "      <td>0.0</td>\n",
       "      <td>0.0</td>\n",
       "      <td>0.0</td>\n",
       "      <td>0.0</td>\n",
       "      <td>0.0</td>\n",
       "      <td>0.0</td>\n",
       "      <td>0.0</td>\n",
       "      <td>0.0</td>\n",
       "      <td>0.0</td>\n",
       "      <td>0.0</td>\n",
       "      <td>1.0</td>\n",
       "      <td>0.0</td>\n",
       "      <td>1.0</td>\n",
       "      <td>0.0</td>\n",
       "      <td>0.0</td>\n",
       "      <td>1.0</td>\n",
       "      <td>0.0</td>\n",
       "      <td>1.0</td>\n",
       "      <td>0.0</td>\n",
       "      <td>0.0</td>\n",
       "    </tr>\n",
       "    <tr>\n",
       "      <th>2</th>\n",
       "      <td>2023-05-31 03:45:00</td>\n",
       "      <td>2</td>\n",
       "      <td>2.26</td>\n",
       "      <td>5.000000</td>\n",
       "      <td>36.162162</td>\n",
       "      <td>2023-05-31 03:45:00</td>\n",
       "      <td>0.0</td>\n",
       "      <td>0.0</td>\n",
       "      <td>0.0</td>\n",
       "      <td>1.0</td>\n",
       "      <td>0.0</td>\n",
       "      <td>0.0</td>\n",
       "      <td>0.0</td>\n",
       "      <td>0.0</td>\n",
       "      <td>0.0</td>\n",
       "      <td>1.0</td>\n",
       "      <td>0.0</td>\n",
       "      <td>0.0</td>\n",
       "      <td>0.0</td>\n",
       "      <td>0.0</td>\n",
       "      <td>1.0</td>\n",
       "      <td>0.0</td>\n",
       "      <td>0.0</td>\n",
       "      <td>1.0</td>\n",
       "      <td>0.0</td>\n",
       "      <td>1.0</td>\n",
       "      <td>0.0</td>\n",
       "    </tr>\n",
       "    <tr>\n",
       "      <th>3</th>\n",
       "      <td>2023-01-04 04:41:00</td>\n",
       "      <td>7</td>\n",
       "      <td>12.32</td>\n",
       "      <td>2.000000</td>\n",
       "      <td>42.000000</td>\n",
       "      <td>2023-01-04 04:41:00</td>\n",
       "      <td>0.0</td>\n",
       "      <td>0.0</td>\n",
       "      <td>0.0</td>\n",
       "      <td>0.0</td>\n",
       "      <td>0.0</td>\n",
       "      <td>0.0</td>\n",
       "      <td>0.0</td>\n",
       "      <td>1.0</td>\n",
       "      <td>0.0</td>\n",
       "      <td>0.0</td>\n",
       "      <td>1.0</td>\n",
       "      <td>0.0</td>\n",
       "      <td>1.0</td>\n",
       "      <td>0.0</td>\n",
       "      <td>0.0</td>\n",
       "      <td>0.0</td>\n",
       "      <td>0.0</td>\n",
       "      <td>1.0</td>\n",
       "      <td>1.0</td>\n",
       "      <td>0.0</td>\n",
       "      <td>0.0</td>\n",
       "    </tr>\n",
       "    <tr>\n",
       "      <th>4</th>\n",
       "      <td>2023-07-25 18:45:00</td>\n",
       "      <td>6</td>\n",
       "      <td>12.96</td>\n",
       "      <td>2.000000</td>\n",
       "      <td>37.000000</td>\n",
       "      <td>2023-07-25 18:45:00</td>\n",
       "      <td>1.0</td>\n",
       "      <td>0.0</td>\n",
       "      <td>0.0</td>\n",
       "      <td>0.0</td>\n",
       "      <td>0.0</td>\n",
       "      <td>0.0</td>\n",
       "      <td>0.0</td>\n",
       "      <td>0.0</td>\n",
       "      <td>0.0</td>\n",
       "      <td>0.0</td>\n",
       "      <td>1.0</td>\n",
       "      <td>0.0</td>\n",
       "      <td>0.0</td>\n",
       "      <td>0.0</td>\n",
       "      <td>0.0</td>\n",
       "      <td>1.0</td>\n",
       "      <td>0.0</td>\n",
       "      <td>1.0</td>\n",
       "      <td>1.0</td>\n",
       "      <td>0.0</td>\n",
       "      <td>0.0</td>\n",
       "    </tr>\n",
       "  </tbody>\n",
       "</table>\n",
       "</div>"
      ],
      "text/plain": [
       "          fecha_venta  unidades  precio_total  calificacion  \\\n",
       "0 2023-04-08 00:21:00         5         11.80      2.843284   \n",
       "1 2023-03-04 11:09:00        11         19.36      2.875000   \n",
       "2 2023-05-31 03:45:00         2          2.26      5.000000   \n",
       "3 2023-01-04 04:41:00         7         12.32      2.000000   \n",
       "4 2023-07-25 18:45:00         6         12.96      2.000000   \n",
       "\n",
       "   tiempo_entrega_min                fecha  tipo_empanada_Caprese  \\\n",
       "0           34.321429  2023-04-08 00:21:00                    0.0   \n",
       "1           36.000000  2023-03-04 11:09:00                    1.0   \n",
       "2           36.162162  2023-05-31 03:45:00                    0.0   \n",
       "3           42.000000  2023-01-04 04:41:00                    0.0   \n",
       "4           37.000000  2023-07-25 18:45:00                    1.0   \n",
       "\n",
       "   tipo_empanada_Carne  tipo_empanada_Carne Picante  \\\n",
       "0                  0.0                          1.0   \n",
       "1                  0.0                          0.0   \n",
       "2                  0.0                          0.0   \n",
       "3                  0.0                          0.0   \n",
       "4                  0.0                          0.0   \n",
       "\n",
       "   tipo_empanada_Cebolla y Queso  tipo_empanada_Humita  \\\n",
       "0                            0.0                   0.0   \n",
       "1                            0.0                   0.0   \n",
       "2                            1.0                   0.0   \n",
       "3                            0.0                   0.0   \n",
       "4                            0.0                   0.0   \n",
       "\n",
       "   tipo_empanada_Jamon y Queso  tipo_empanada_Pollo  tipo_empanada_Verdura  \\\n",
       "0                          0.0                  0.0                    0.0   \n",
       "1                          0.0                  0.0                    0.0   \n",
       "2                          0.0                  0.0                    0.0   \n",
       "3                          0.0                  0.0                    1.0   \n",
       "4                          0.0                  0.0                    0.0   \n",
       "\n",
       "   sucursal_Sucursal Centro  sucursal_Sucursal Norte  sucursal_Sucursal Oeste  \\\n",
       "0                       0.0                      0.0                      1.0   \n",
       "1                       0.0                      0.0                      0.0   \n",
       "2                       0.0                      1.0                      0.0   \n",
       "3                       0.0                      0.0                      1.0   \n",
       "4                       0.0                      0.0                      1.0   \n",
       "\n",
       "   sucursal_Sucursal Sur  medio_pago_Efectivo  medio_pago_Tarjeta Crédito  \\\n",
       "0                    0.0                  0.0                         1.0   \n",
       "1                    1.0                  0.0                         1.0   \n",
       "2                    0.0                  0.0                         0.0   \n",
       "3                    0.0                  1.0                         0.0   \n",
       "4                    0.0                  0.0                         0.0   \n",
       "\n",
       "   medio_pago_Tarjeta Débito  medio_pago_Transferencia  cliente_Habitual  \\\n",
       "0                        0.0                       0.0               0.0   \n",
       "1                        0.0                       0.0               1.0   \n",
       "2                        1.0                       0.0               0.0   \n",
       "3                        0.0                       0.0               0.0   \n",
       "4                        0.0                       1.0               0.0   \n",
       "\n",
       "   cliente_Nuevo  metodo_compra_Delivery  metodo_compra_Presencial  \\\n",
       "0            1.0                     0.0                       0.0   \n",
       "1            0.0                     1.0                       0.0   \n",
       "2            1.0                     0.0                       1.0   \n",
       "3            1.0                     1.0                       0.0   \n",
       "4            1.0                     1.0                       0.0   \n",
       "\n",
       "   metodo_compra_Web  \n",
       "0                1.0  \n",
       "1                0.0  \n",
       "2                0.0  \n",
       "3                0.0  \n",
       "4                0.0  "
      ]
     },
     "execution_count": 40,
     "metadata": {},
     "output_type": "execute_result"
    }
   ],
   "source": [
    "df.head() #Mostrar las primeras filas del DataFrame"
   ]
  },
  {
   "cell_type": "code",
   "execution_count": 41,
   "metadata": {},
   "outputs": [],
   "source": [
    "df_modelo1 = df.drop(columns=[\"fecha_venta\",\"fecha\"]) "
   ]
  },
  {
   "cell_type": "code",
   "execution_count": 42,
   "metadata": {},
   "outputs": [],
   "source": [
    "X = df_modelo1.drop(\"unidades\", axis=1) \n",
    "y = df_modelo1[\"unidades\"] "
   ]
  },
  {
   "cell_type": "code",
   "execution_count": null,
   "metadata": {},
   "outputs": [
    {
     "name": "stdout",
     "output_type": "stream",
     "text": [
      "n_estimators=12 -> RMSE: 2.44, R²: 0.808\n"
     ]
    }
   ],
   "source": [
    "from sklearn.metrics import mean_squared_error, r2_score #Importar las metricas de error\n",
    "from sklearn.model_selection import train_test_split # Para dividir el DataFrame en conjunto de entrenamiento y conjunto de prueba\n",
    "X_train, X_test, y_train, y_test = train_test_split(X, y, test_size=0.2, random_state=123) #Dividir el DataFrame en conjunto de entrenamiento y conjunto de prueba\n",
    "\n",
    "# Modelo\n",
    "from sklearn.ensemble import RandomForestRegressor #Importar el modelo RandomForestRegressor\n",
    "\n",
    "model = RandomForestRegressor(n_estimators=100,max_depth=5,min_samples_split=10,min_samples_leaf=2,random_state=123) #Crear un objeto RandomForestRegressor con los parametros especificados mediante testeo uno por uno\n",
    "model.fit(X_train, y_train)\n",
    "y_pred = model.predict(X_test)\n",
    "print(f\"n_estimators={i} -> RMSE: {mean_squared_error(y_test, y_pred):.2f}, R²: {r2_score(y_test, y_pred):.3f}\") #Enseñar los resultados de las metricas"
   ]
  },
  {
   "cell_type": "code",
   "execution_count": null,
   "metadata": {},
   "outputs": [
    {
     "data": {
      "text/plain": [
       "np.float64(0.8207124932049833)"
      ]
     },
     "execution_count": 47,
     "metadata": {},
     "output_type": "execute_result"
    }
   ],
   "source": [
    "## Validacion Cruzada\n",
    "from sklearn.model_selection import cross_val_score \n",
    "cvscore = cross_val_score(model, X, y, cv=5)\n",
    "cvscore\n",
    "np.mean(cvscore)"
   ]
  },
  {
   "cell_type": "code",
   "execution_count": 50,
   "metadata": {},
   "outputs": [
    {
     "data": {
      "image/png": "[encoded data removed]",
      "text/plain": [
       "<Figure size 800x600 with 1 Axes>"
      ]
     },
     "metadata": {},
     "output_type": "display_data"
    }
   ],
   "source": [
    "import matplotlib.pyplot as plt #Importar la libreria matplotlib para graficar\n",
    "import seaborn as sns #Importar la libreria seaborn para graficar\n",
    "\n",
    "plt.figure(figsize=(8,6))\n",
    "sns.scatterplot(x=y_test, y=y_pred, alpha=0.6)\n",
    "plt.plot([y_test.min(), y_test.max()], [y_test.min(), y_test.max()], 'r--')  # Línea ideal\n",
    "plt.xlabel(\"Unidades vendidas reales\")\n",
    "plt.ylabel(\"Unidades vendidas predichas\")\n",
    "plt.legend([\"Valor real\", \"Valor predicho\"], loc=\"upper left\")\n",
    "plt.title(\"Predicciones vs Valores reales\")\n",
    "plt.grid(True)\n",
    "plt.tight_layout()\n",
    "plt.show()"
   ]
  }
 ],
 "metadata": {
  "kernelspec": {
   "display_name": "Python 3",
   "language": "python",
   "name": "python3"
  },
  "language_info": {
   "codemirror_mode": {
    "name": "ipython",
    "version": 3
   },
   "file_extension": ".py",
   "mimetype": "text/x-python",
   "name": "python",
   "nbconvert_exporter": "python",
   "pygments_lexer": "ipython3",
   "version": "3.12.10"
  }
 },
 "nbformat": 4,
 "nbformat_minor": 2
}
